{
 "cells": [
  {
   "cell_type": "markdown",
   "id": "a0f77432-97d5-4452-9d39-8bd3c8be28d1",
   "metadata": {},
   "source": [
    "# <font color=steelblue>DS-03 Data Science und künstliche Intelligenz</font>"
   ]
  },
  {
   "cell_type": "markdown",
   "id": "3ec4d16e-6d16-4c9b-a523-2d2e9e02eb74",
   "metadata": {
    "tags": []
   },
   "source": [
    "## <font color=grey>Beispiele zu Machine Learning Algorithmen</font>"
   ]
  },
  {
   "cell_type": "markdown",
   "id": "36cf00bd-bd49-4f97-8c31-03ed8699b3ae",
   "metadata": {
    "tags": []
   },
   "source": [
    "In den Beispielen verwenden wir großteils die Daten aus unserem Fallbeispiel der Kundenabwanderung in einem Telekommunikationsunternehmen. Für die einzelnen Modelle betrachten jedoch immer nur 2 Dimensionen (Features), damit wir die Ergebnisse visualisieren können.\n",
    "\n",
    "Als weitere Datensätze werden der Iris-Datensatz von Fisher aus dem Jahr 1936 und der MINST-Datensatz (handschriftliche Ziffern) verwendet."
   ]
  },
  {
   "cell_type": "markdown",
   "id": "dccf3737-6535-4999-bad1-fcbbd54d2dad",
   "metadata": {},
   "source": [
    "Laden der notwendigen Basis Bibliotheken:"
   ]
  },
  {
   "cell_type": "code",
   "execution_count": 1,
   "id": "950bd5dd-f532-454b-bea1-7b379f64dc62",
   "metadata": {},
   "outputs": [],
   "source": [
    "flagShowFigures = False"
   ]
  },
  {
   "cell_type": "code",
   "execution_count": 2,
   "id": "c33858f5-7c8f-4198-bcd1-6d82f0d72e9d",
   "metadata": {},
   "outputs": [],
   "source": [
    "#In der online Variante müssen die folgenden Bibliotheken virtuell nachinstalliert werden\n",
    "#import piplite\n",
    "#await piplite.install('seaborn')\n",
    "#await piplite.install('graphviz')"
   ]
  },
  {
   "cell_type": "code",
   "execution_count": 3,
   "id": "443e1588-833a-48e3-82e9-b4c661f96b2e",
   "metadata": {},
   "outputs": [],
   "source": [
    "import pandas as pd\n",
    "import numpy as np\n",
    "import matplotlib.pyplot as plt\n",
    "import seaborn as sns\n",
    "from sklearn.model_selection import train_test_split\n",
    "from sklearn.inspection import DecisionBoundaryDisplay\n",
    "from sklearn import metrics\n",
    "from sklearn import datasets\n",
    "from sklearn.metrics import recall_score, confusion_matrix, precision_score, f1_score, accuracy_score, classification_report, mean_squared_error, r2_score"
   ]
  },
  {
   "cell_type": "markdown",
   "id": "c0886883-71a7-4814-8770-da73c73180ea",
   "metadata": {},
   "source": [
    "Definition einer Hilfsfunktion, um die Confusion Matrix komfortabel darzustellen:"
   ]
  },
  {
   "cell_type": "code",
   "execution_count": 4,
   "id": "999a88f1-9856-49c1-a9e0-993d62e10f2e",
   "metadata": {},
   "outputs": [],
   "source": [
    "def showConfusionMatrix(y_test, y_pred):\n",
    "    plt.figure(figsize = (4,3))\n",
    "    ax = sns.heatmap(confusion_matrix(y_test, y_pred),\n",
    "                annot = True, fmt = \"d\", linecolor = \"k\", linewidths = 0, cmap=\"YlGnBu\")\n",
    "    ax.invert_xaxis()\n",
    "    ax.invert_yaxis()\n",
    "    plt.title(\"CONFUSION MATRIX\",fontsize=14)\n",
    "    plt.show() \n"
   ]
  },
  {
   "cell_type": "markdown",
   "id": "de380dbd-388a-4f36-8e2b-c3227bd7a2a1",
   "metadata": {},
   "source": [
    "Laden der Daten des Fallbeispiel der Kundenabwanderung im Telekommunikationsunternehmen (CleanedData4ML.csv)"
   ]
  },
  {
   "cell_type": "code",
   "execution_count": 5,
   "id": "0f3d7a2a-bc02-4ab3-99c8-6e5d68f24c55",
   "metadata": {},
   "outputs": [
    {
     "data": {
      "text/html": [
       "<div>\n",
       "<style scoped>\n",
       "    .dataframe tbody tr th:only-of-type {\n",
       "        vertical-align: middle;\n",
       "    }\n",
       "\n",
       "    .dataframe tbody tr th {\n",
       "        vertical-align: top;\n",
       "    }\n",
       "\n",
       "    .dataframe thead th {\n",
       "        text-align: right;\n",
       "    }\n",
       "</style>\n",
       "<table border=\"1\" class=\"dataframe\">\n",
       "  <thead>\n",
       "    <tr style=\"text-align: right;\">\n",
       "      <th></th>\n",
       "      <th>Unnamed: 0</th>\n",
       "      <th>customerID</th>\n",
       "      <th>gender</th>\n",
       "      <th>SeniorCitizen</th>\n",
       "      <th>Partner</th>\n",
       "      <th>Dependents</th>\n",
       "      <th>tenure</th>\n",
       "      <th>PhoneService</th>\n",
       "      <th>MultipleLines</th>\n",
       "      <th>InternetService</th>\n",
       "      <th>...</th>\n",
       "      <th>TechSupport</th>\n",
       "      <th>StreamingTV</th>\n",
       "      <th>StreamingMovies</th>\n",
       "      <th>Contract</th>\n",
       "      <th>PaperlessBilling</th>\n",
       "      <th>PaymentMethod</th>\n",
       "      <th>MonthlyCharges</th>\n",
       "      <th>TotalCharges</th>\n",
       "      <th>CalculatedTotalCharges</th>\n",
       "      <th>Churn</th>\n",
       "    </tr>\n",
       "  </thead>\n",
       "  <tbody>\n",
       "    <tr>\n",
       "      <th>0</th>\n",
       "      <td>0</td>\n",
       "      <td>5365</td>\n",
       "      <td>0</td>\n",
       "      <td>0</td>\n",
       "      <td>1</td>\n",
       "      <td>0</td>\n",
       "      <td>-1.280248</td>\n",
       "      <td>0</td>\n",
       "      <td>1</td>\n",
       "      <td>0</td>\n",
       "      <td>...</td>\n",
       "      <td>0</td>\n",
       "      <td>0</td>\n",
       "      <td>0</td>\n",
       "      <td>0</td>\n",
       "      <td>1</td>\n",
       "      <td>2</td>\n",
       "      <td>-1.161694</td>\n",
       "      <td>-0.994194</td>\n",
       "      <td>-0.995034</td>\n",
       "      <td>0</td>\n",
       "    </tr>\n",
       "    <tr>\n",
       "      <th>1</th>\n",
       "      <td>1</td>\n",
       "      <td>3953</td>\n",
       "      <td>1</td>\n",
       "      <td>0</td>\n",
       "      <td>0</td>\n",
       "      <td>0</td>\n",
       "      <td>0.064303</td>\n",
       "      <td>1</td>\n",
       "      <td>0</td>\n",
       "      <td>0</td>\n",
       "      <td>...</td>\n",
       "      <td>0</td>\n",
       "      <td>0</td>\n",
       "      <td>0</td>\n",
       "      <td>1</td>\n",
       "      <td>0</td>\n",
       "      <td>3</td>\n",
       "      <td>-0.260878</td>\n",
       "      <td>-0.173740</td>\n",
       "      <td>-0.153164</td>\n",
       "      <td>0</td>\n",
       "    </tr>\n",
       "    <tr>\n",
       "      <th>2</th>\n",
       "      <td>2</td>\n",
       "      <td>2558</td>\n",
       "      <td>1</td>\n",
       "      <td>0</td>\n",
       "      <td>0</td>\n",
       "      <td>0</td>\n",
       "      <td>-1.239504</td>\n",
       "      <td>1</td>\n",
       "      <td>0</td>\n",
       "      <td>0</td>\n",
       "      <td>...</td>\n",
       "      <td>0</td>\n",
       "      <td>0</td>\n",
       "      <td>0</td>\n",
       "      <td>0</td>\n",
       "      <td>1</td>\n",
       "      <td>3</td>\n",
       "      <td>-0.363923</td>\n",
       "      <td>-0.959649</td>\n",
       "      <td>-0.960656</td>\n",
       "      <td>1</td>\n",
       "    </tr>\n",
       "    <tr>\n",
       "      <th>3</th>\n",
       "      <td>3</td>\n",
       "      <td>5524</td>\n",
       "      <td>1</td>\n",
       "      <td>0</td>\n",
       "      <td>0</td>\n",
       "      <td>0</td>\n",
       "      <td>0.512486</td>\n",
       "      <td>0</td>\n",
       "      <td>1</td>\n",
       "      <td>0</td>\n",
       "      <td>...</td>\n",
       "      <td>2</td>\n",
       "      <td>0</td>\n",
       "      <td>0</td>\n",
       "      <td>1</td>\n",
       "      <td>0</td>\n",
       "      <td>0</td>\n",
       "      <td>-0.747850</td>\n",
       "      <td>-0.195248</td>\n",
       "      <td>-0.167649</td>\n",
       "      <td>0</td>\n",
       "    </tr>\n",
       "    <tr>\n",
       "      <th>4</th>\n",
       "      <td>4</td>\n",
       "      <td>6500</td>\n",
       "      <td>0</td>\n",
       "      <td>0</td>\n",
       "      <td>0</td>\n",
       "      <td>0</td>\n",
       "      <td>-1.239504</td>\n",
       "      <td>1</td>\n",
       "      <td>0</td>\n",
       "      <td>1</td>\n",
       "      <td>...</td>\n",
       "      <td>0</td>\n",
       "      <td>0</td>\n",
       "      <td>0</td>\n",
       "      <td>0</td>\n",
       "      <td>1</td>\n",
       "      <td>2</td>\n",
       "      <td>0.196178</td>\n",
       "      <td>-0.940457</td>\n",
       "      <td>-0.945775</td>\n",
       "      <td>1</td>\n",
       "    </tr>\n",
       "  </tbody>\n",
       "</table>\n",
       "<p>5 rows × 23 columns</p>\n",
       "</div>"
      ],
      "text/plain": [
       "   Unnamed: 0  customerID  gender  SeniorCitizen  Partner  Dependents  \\\n",
       "0           0        5365       0              0        1           0   \n",
       "1           1        3953       1              0        0           0   \n",
       "2           2        2558       1              0        0           0   \n",
       "3           3        5524       1              0        0           0   \n",
       "4           4        6500       0              0        0           0   \n",
       "\n",
       "     tenure  PhoneService  MultipleLines  InternetService  ...  TechSupport  \\\n",
       "0 -1.280248             0              1                0  ...            0   \n",
       "1  0.064303             1              0                0  ...            0   \n",
       "2 -1.239504             1              0                0  ...            0   \n",
       "3  0.512486             0              1                0  ...            2   \n",
       "4 -1.239504             1              0                1  ...            0   \n",
       "\n",
       "   StreamingTV  StreamingMovies  Contract  PaperlessBilling  PaymentMethod  \\\n",
       "0            0                0         0                 1              2   \n",
       "1            0                0         1                 0              3   \n",
       "2            0                0         0                 1              3   \n",
       "3            0                0         1                 0              0   \n",
       "4            0                0         0                 1              2   \n",
       "\n",
       "   MonthlyCharges  TotalCharges  CalculatedTotalCharges  Churn  \n",
       "0       -1.161694     -0.994194               -0.995034      0  \n",
       "1       -0.260878     -0.173740               -0.153164      0  \n",
       "2       -0.363923     -0.959649               -0.960656      1  \n",
       "3       -0.747850     -0.195248               -0.167649      0  \n",
       "4        0.196178     -0.940457               -0.945775      1  \n",
       "\n",
       "[5 rows x 23 columns]"
      ]
     },
     "execution_count": 5,
     "metadata": {},
     "output_type": "execute_result"
    }
   ],
   "source": [
    "df = pd.read_csv('CleanedData4ML.csv')\n",
    "df.head()"
   ]
  },
  {
   "cell_type": "markdown",
   "id": "2a2e0577-7bf5-49e2-9432-4004f435b3a7",
   "metadata": {
    "tags": []
   },
   "source": [
    "### <font color=grey>Trainings- und Testdaten aufteilen</font>"
   ]
  },
  {
   "cell_type": "markdown",
   "id": "68f87701-bdf3-4ddd-99e5-51f576cae129",
   "metadata": {},
   "source": [
    "Als erstes werden wir die ersten beiden Spalten los:"
   ]
  },
  {
   "cell_type": "code",
   "execution_count": 6,
   "id": "9d2fc41e-8eb8-49fb-85a2-66bb8d88f6a1",
   "metadata": {},
   "outputs": [],
   "source": [
    "df = df.drop(columns = ['Unnamed: 0', 'customerID'])"
   ]
  },
  {
   "cell_type": "markdown",
   "id": "9e2e071c-7dc2-4af3-9241-84386d3cb05c",
   "metadata": {},
   "source": [
    "Dann trennen wir die Features von der Ergebnisgröße \"Churn\""
   ]
  },
  {
   "cell_type": "code",
   "execution_count": 7,
   "id": "a329ddfd-3cec-4ccc-879e-90734da63a91",
   "metadata": {},
   "outputs": [],
   "source": [
    "x = df.drop(columns = ['Churn'])\n",
    "y = df['Churn'].values"
   ]
  },
  {
   "cell_type": "markdown",
   "id": "fccabaf1-592b-44fb-886c-db63037f12d5",
   "metadata": {},
   "source": [
    "Jetzt erfolgt die Aufteilung ind Trainings- und Testdaten"
   ]
  },
  {
   "cell_type": "code",
   "execution_count": 8,
   "id": "11dd94da-119f-4f67-8e0a-3e798c2aa3d2",
   "metadata": {},
   "outputs": [],
   "source": [
    "x_train, x_test, y_train, y_test = train_test_split(x,y,test_size = 0.30, random_state = 40, stratify=y)"
   ]
  },
  {
   "cell_type": "code",
   "execution_count": 9,
   "id": "8389b562-8d85-44ab-8a08-c40d526aafab",
   "metadata": {},
   "outputs": [
    {
     "data": {
      "text/html": [
       "<div>\n",
       "<style scoped>\n",
       "    .dataframe tbody tr th:only-of-type {\n",
       "        vertical-align: middle;\n",
       "    }\n",
       "\n",
       "    .dataframe tbody tr th {\n",
       "        vertical-align: top;\n",
       "    }\n",
       "\n",
       "    .dataframe thead th {\n",
       "        text-align: right;\n",
       "    }\n",
       "</style>\n",
       "<table border=\"1\" class=\"dataframe\">\n",
       "  <thead>\n",
       "    <tr style=\"text-align: right;\">\n",
       "      <th></th>\n",
       "      <th>gender</th>\n",
       "      <th>SeniorCitizen</th>\n",
       "      <th>Partner</th>\n",
       "      <th>Dependents</th>\n",
       "      <th>tenure</th>\n",
       "      <th>PhoneService</th>\n",
       "      <th>MultipleLines</th>\n",
       "      <th>InternetService</th>\n",
       "      <th>OnlineSecurity</th>\n",
       "      <th>OnlineBackup</th>\n",
       "      <th>DeviceProtection</th>\n",
       "      <th>TechSupport</th>\n",
       "      <th>StreamingTV</th>\n",
       "      <th>StreamingMovies</th>\n",
       "      <th>Contract</th>\n",
       "      <th>PaperlessBilling</th>\n",
       "      <th>PaymentMethod</th>\n",
       "      <th>MonthlyCharges</th>\n",
       "      <th>TotalCharges</th>\n",
       "      <th>CalculatedTotalCharges</th>\n",
       "    </tr>\n",
       "  </thead>\n",
       "  <tbody>\n",
       "    <tr>\n",
       "      <th>980</th>\n",
       "      <td>1</td>\n",
       "      <td>0</td>\n",
       "      <td>0</td>\n",
       "      <td>0</td>\n",
       "      <td>-1.280248</td>\n",
       "      <td>1</td>\n",
       "      <td>2</td>\n",
       "      <td>1</td>\n",
       "      <td>0</td>\n",
       "      <td>0</td>\n",
       "      <td>0</td>\n",
       "      <td>0</td>\n",
       "      <td>0</td>\n",
       "      <td>2</td>\n",
       "      <td>0</td>\n",
       "      <td>1</td>\n",
       "      <td>2</td>\n",
       "      <td>0.724701</td>\n",
       "      <td>-0.969157</td>\n",
       "      <td>-0.969974</td>\n",
       "    </tr>\n",
       "    <tr>\n",
       "      <th>6556</th>\n",
       "      <td>1</td>\n",
       "      <td>0</td>\n",
       "      <td>1</td>\n",
       "      <td>0</td>\n",
       "      <td>1.164390</td>\n",
       "      <td>1</td>\n",
       "      <td>2</td>\n",
       "      <td>1</td>\n",
       "      <td>2</td>\n",
       "      <td>2</td>\n",
       "      <td>0</td>\n",
       "      <td>0</td>\n",
       "      <td>2</td>\n",
       "      <td>2</td>\n",
       "      <td>0</td>\n",
       "      <td>1</td>\n",
       "      <td>2</td>\n",
       "      <td>1.376214</td>\n",
       "      <td>1.805295</td>\n",
       "      <td>1.852495</td>\n",
       "    </tr>\n",
       "    <tr>\n",
       "      <th>2207</th>\n",
       "      <td>1</td>\n",
       "      <td>0</td>\n",
       "      <td>0</td>\n",
       "      <td>0</td>\n",
       "      <td>-0.913552</td>\n",
       "      <td>1</td>\n",
       "      <td>0</td>\n",
       "      <td>2</td>\n",
       "      <td>1</td>\n",
       "      <td>1</td>\n",
       "      <td>1</td>\n",
       "      <td>1</td>\n",
       "      <td>1</td>\n",
       "      <td>1</td>\n",
       "      <td>1</td>\n",
       "      <td>0</td>\n",
       "      <td>3</td>\n",
       "      <td>-1.505733</td>\n",
       "      <td>-0.907721</td>\n",
       "      <td>-0.922106</td>\n",
       "    </tr>\n",
       "    <tr>\n",
       "      <th>2521</th>\n",
       "      <td>1</td>\n",
       "      <td>0</td>\n",
       "      <td>0</td>\n",
       "      <td>0</td>\n",
       "      <td>-1.280248</td>\n",
       "      <td>1</td>\n",
       "      <td>0</td>\n",
       "      <td>2</td>\n",
       "      <td>1</td>\n",
       "      <td>1</td>\n",
       "      <td>1</td>\n",
       "      <td>1</td>\n",
       "      <td>1</td>\n",
       "      <td>1</td>\n",
       "      <td>0</td>\n",
       "      <td>0</td>\n",
       "      <td>3</td>\n",
       "      <td>-1.509057</td>\n",
       "      <td>-0.998804</td>\n",
       "      <td>-0.999649</td>\n",
       "    </tr>\n",
       "    <tr>\n",
       "      <th>2746</th>\n",
       "      <td>0</td>\n",
       "      <td>0</td>\n",
       "      <td>1</td>\n",
       "      <td>1</td>\n",
       "      <td>-0.546857</td>\n",
       "      <td>0</td>\n",
       "      <td>1</td>\n",
       "      <td>0</td>\n",
       "      <td>0</td>\n",
       "      <td>0</td>\n",
       "      <td>0</td>\n",
       "      <td>0</td>\n",
       "      <td>0</td>\n",
       "      <td>0</td>\n",
       "      <td>0</td>\n",
       "      <td>1</td>\n",
       "      <td>3</td>\n",
       "      <td>-1.327896</td>\n",
       "      <td>-0.815535</td>\n",
       "      <td>-0.799719</td>\n",
       "    </tr>\n",
       "  </tbody>\n",
       "</table>\n",
       "</div>"
      ],
      "text/plain": [
       "      gender  SeniorCitizen  Partner  Dependents    tenure  PhoneService  \\\n",
       "980        1              0        0           0 -1.280248             1   \n",
       "6556       1              0        1           0  1.164390             1   \n",
       "2207       1              0        0           0 -0.913552             1   \n",
       "2521       1              0        0           0 -1.280248             1   \n",
       "2746       0              0        1           1 -0.546857             0   \n",
       "\n",
       "      MultipleLines  InternetService  OnlineSecurity  OnlineBackup  \\\n",
       "980               2                1               0             0   \n",
       "6556              2                1               2             2   \n",
       "2207              0                2               1             1   \n",
       "2521              0                2               1             1   \n",
       "2746              1                0               0             0   \n",
       "\n",
       "      DeviceProtection  TechSupport  StreamingTV  StreamingMovies  Contract  \\\n",
       "980                  0            0            0                2         0   \n",
       "6556                 0            0            2                2         0   \n",
       "2207                 1            1            1                1         1   \n",
       "2521                 1            1            1                1         0   \n",
       "2746                 0            0            0                0         0   \n",
       "\n",
       "      PaperlessBilling  PaymentMethod  MonthlyCharges  TotalCharges  \\\n",
       "980                  1              2        0.724701     -0.969157   \n",
       "6556                 1              2        1.376214      1.805295   \n",
       "2207                 0              3       -1.505733     -0.907721   \n",
       "2521                 0              3       -1.509057     -0.998804   \n",
       "2746                 1              3       -1.327896     -0.815535   \n",
       "\n",
       "      CalculatedTotalCharges  \n",
       "980                -0.969974  \n",
       "6556                1.852495  \n",
       "2207               -0.922106  \n",
       "2521               -0.999649  \n",
       "2746               -0.799719  "
      ]
     },
     "execution_count": 9,
     "metadata": {},
     "output_type": "execute_result"
    }
   ],
   "source": [
    "x_train.head()"
   ]
  },
  {
   "cell_type": "markdown",
   "id": "a63e53cc-1421-400f-9acd-1235ce2f44aa",
   "metadata": {
    "tags": []
   },
   "source": [
    "---\n",
    "### <font color=steelblue>k-Nearest Neighbours</font>\n"
   ]
  },
  {
   "cell_type": "code",
   "execution_count": 10,
   "id": "5cea5691-deeb-4421-8815-7fc85fd42af6",
   "metadata": {},
   "outputs": [],
   "source": [
    "from sklearn.neighbors import KNeighborsClassifier"
   ]
  },
  {
   "cell_type": "code",
   "execution_count": 11,
   "id": "4178ef8b-e724-43ea-a65b-5ea70eb818aa",
   "metadata": {},
   "outputs": [
    {
     "name": "stdout",
     "output_type": "stream",
     "text": [
      "              precision    recall  f1-score   support\n",
      "\n",
      "           0       0.81      0.91      0.86      1549\n",
      "           1       0.63      0.40      0.49       561\n",
      "\n",
      "    accuracy                           0.78      2110\n",
      "   macro avg       0.72      0.66      0.67      2110\n",
      "weighted avg       0.76      0.78      0.76      2110\n",
      "\n"
     ]
    },
    {
     "data": {
      "image/png": "[encoded data removed]",
      "text/plain": [
       "<Figure size 288x216 with 2 Axes>"
      ]
     },
     "metadata": {
      "needs_background": "light"
     },
     "output_type": "display_data"
    },
    {
     "data": {
      "text/plain": [
       "array([[1413,  136],\n",
       "       [ 334,  227]], dtype=int64)"
      ]
     },
     "execution_count": 11,
     "metadata": {},
     "output_type": "execute_result"
    }
   ],
   "source": [
    "features = ['tenure', 'MonthlyCharges']\n",
    "\n",
    "x2_train = pd.DataFrame({features[0] : x_train[features[0]], features[1] : x_train[features[1]]})\n",
    "x2_test = pd.DataFrame({features[0] : x_test[features[0]], features[1] : x_test[features[1]]})\n",
    "\n",
    "knn_model = KNeighborsClassifier(n_neighbors = 10) \n",
    "\n",
    "knn_model.fit(x2_train,y_train)\n",
    "\n",
    "predicted_y = knn_model.predict(x2_test)\n",
    "\n",
    "print(classification_report(y_test, predicted_y))\n",
    "\n",
    "showConfusionMatrix(y_test, predicted_y)\n",
    "\n",
    "confusion_matrix(y_test, predicted_y)"
   ]
  },
  {
   "cell_type": "code",
   "execution_count": 12,
   "id": "33ef0f91-6047-473c-8631-66f34141f3fb",
   "metadata": {},
   "outputs": [
    {
     "data": {
      "text/plain": [
       "array([0, 0, 1, 0, 0, 1, 0, 1, 0, 0, 1, 0, 0, 0, 0, 0, 0, 0, 0, 0, 0, 1,\n",
       "       0, 0, 0, 0, 0, 0, 0, 0, 0, 1, 0, 1, 0, 1, 0, 0, 1, 0, 0, 0, 0, 0,\n",
       "       0, 0, 0, 0, 0, 0, 0, 0, 1, 0, 0, 1, 1, 0, 0, 1, 0, 0, 0, 0, 0, 0,\n",
       "       0, 0, 0, 0, 1, 0, 0, 0, 0, 0, 0, 0, 0, 0, 1, 1, 1, 0, 0, 0, 0, 0,\n",
       "       1, 1, 0, 0, 0, 0, 1, 0, 0, 0, 0], dtype=int64)"
      ]
     },
     "execution_count": 12,
     "metadata": {},
     "output_type": "execute_result"
    }
   ],
   "source": [
    "y_test[1:100]"
   ]
  },
  {
   "cell_type": "code",
   "execution_count": 13,
   "id": "6c88ab3e-f81c-4fd3-8ed9-ddc57fe559df",
   "metadata": {},
   "outputs": [
    {
     "data": {
      "text/plain": [
       "array([0, 0, 0, 1, 0, 0, 0, 0, 0, 0, 1, 0, 0, 0, 0, 0, 0, 0, 0, 0, 0, 0,\n",
       "       0, 0, 0, 0, 0, 0, 0, 0, 0, 0, 0, 0, 0, 0, 0, 1, 0, 0, 0, 0, 0, 0,\n",
       "       0, 0, 0, 0, 0, 0, 1, 0, 0, 0, 0, 0, 1, 0, 0, 0, 0, 0, 0, 0, 1, 0,\n",
       "       0, 1, 1, 0, 1, 0, 0, 0, 0, 0, 0, 0, 0, 0, 0, 0, 1, 1, 0, 0, 0, 0,\n",
       "       0, 1, 0, 0, 0, 0, 0, 0, 0, 0, 1], dtype=int64)"
      ]
     },
     "execution_count": 13,
     "metadata": {},
     "output_type": "execute_result"
    }
   ],
   "source": [
    "predicted_y[1:100]"
   ]
  },
  {
   "cell_type": "code",
   "execution_count": 14,
   "id": "aaa03db0-a668-4d76-a2ce-cabad2aa90e1",
   "metadata": {},
   "outputs": [],
   "source": [
    "#Darstellung\n",
    "if flagShowFigures: \n",
    "    plt.rcParams[\"figure.figsize\"] = (12,12)\n",
    "\n",
    "    cmap = plt.cm.coolwarm\n",
    "    ax = plt.subplot()\n",
    "\n",
    "    DecisionBoundaryDisplay.from_estimator(\n",
    "        knn_model, \n",
    "        x2_test,\n",
    "        cmap = cmap, \n",
    "        alpha=0.8, \n",
    "        ax=ax, \n",
    "        eps=0.5,\n",
    "        xlabel=features[0],\n",
    "        ylabel=features[1],\n",
    "    )\n",
    "\n",
    "    ax.scatter(x2_test[features[0]] , x2_test[features[1]] , c=y_test, edgecolors=\"k\", cmap = cmap, alpha=0.7)"
   ]
  },
  {
   "cell_type": "code",
   "execution_count": null,
   "id": "384a0a6f-9215-4a79-a47c-9aecddf6a07a",
   "metadata": {},
   "outputs": [],
   "source": []
  },
  {
   "cell_type": "markdown",
   "id": "2842be1f-64b4-4235-acd9-f06fa143fcd2",
   "metadata": {
    "tags": []
   },
   "source": [
    "---\n",
    "### <font color=steelblue>K-Means</font>\n"
   ]
  },
  {
   "cell_type": "code",
   "execution_count": 15,
   "id": "70b5368f-d683-41c7-854e-f4b6e4bda8cc",
   "metadata": {},
   "outputs": [],
   "source": [
    "from sklearn.cluster import KMeans"
   ]
  },
  {
   "cell_type": "code",
   "execution_count": 16,
   "id": "6d78b0af-2769-41f6-95d0-ec069035146d",
   "metadata": {},
   "outputs": [],
   "source": [
    "#Features auswählen\n",
    "features = ['tenure', 'MonthlyCharges']\n",
    "\n",
    "x2_train = pd.DataFrame({features[0] : x_train[features[0]], features[1] : x_train[features[1]]})\n",
    "x2_test = pd.DataFrame({features[0] : x_test[features[0]], features[1] : x_test[features[1]]})\n",
    "\n",
    "#Training\n",
    "kmeans = KMeans(init=\"random\", n_clusters=5, n_init=4, random_state=0).fit(x2_train)\n",
    "\n",
    "#Abruf\n",
    "clusterTrain = kmeans.predict(x2_train)\n",
    "\n",
    "#Darstellung\n",
    "if flagShowFigures: \n",
    "    fig, ax = plt.subplots()\n",
    "    plt.rcParams[\"figure.figsize\"] = (12, 12)\n",
    "\n",
    "    DecisionBoundaryDisplay.from_estimator(\n",
    "        kmeans, \n",
    "        x2_train,\n",
    "        cmap = cmap, \n",
    "        alpha=0.8, \n",
    "        ax=ax, \n",
    "        eps=0.5,\n",
    "        xlabel=features[0],\n",
    "        ylabel=features[1],\n",
    "    )\n",
    "\n",
    "    ax.scatter(x2_train[features[0]], x2_train[features[1]], c=clusterTrain, edgecolors=\"k\", cmap = cmap, alpha=1)\n",
    "\n",
    "    plt.show()"
   ]
  },
  {
   "cell_type": "markdown",
   "id": "0a215f7d-c77b-48cd-9067-1754389eddb2",
   "metadata": {},
   "source": [
    "#### Beispiel unter Verwendung des Iris data Set"
   ]
  },
  {
   "cell_type": "code",
   "execution_count": 17,
   "id": "b59dd702-ea87-483e-858d-38579a014705",
   "metadata": {},
   "outputs": [],
   "source": [
    "# Laden des Datensets\n",
    "from sklearn import datasets\n",
    "iris = datasets.load_iris()"
   ]
  },
  {
   "cell_type": "code",
   "execution_count": 18,
   "id": "c91e27d9-2fe5-47af-8475-09a7a789ef56",
   "metadata": {},
   "outputs": [],
   "source": [
    "# Erste beiden Features\n",
    "# Sepal length\n",
    "# Sepal width\n",
    "dimensions = [0,1]\n",
    "X = iris.data[:, dimensions]\n",
    "Y = iris.target\n",
    "\n",
    "#Trainieren\n",
    "kmeans = KMeans(init=\"random\", n_clusters=3, n_init=4, random_state=0).fit(X)\n",
    "\n",
    "#Abruf\n",
    "clusterTrain = kmeans.predict(X)\n",
    "\n",
    "#Darstellung\n",
    "if flagShowFigures: \n",
    "    fig, ax = plt.subplots()\n",
    "    plt.rcParams[\"figure.figsize\"] = (12, 12)\n",
    "\n",
    "    DecisionBoundaryDisplay.from_estimator(\n",
    "        kmeans, \n",
    "        X,\n",
    "        cmap = plt.cm.coolwarm, \n",
    "        alpha=0.8, \n",
    "        ax=ax, \n",
    "        eps=0.5,\n",
    "        xlabel=iris.feature_names[dimensions[0]],\n",
    "        ylabel=iris.feature_names[dimensions[1]],\n",
    "    )\n",
    "\n",
    "    ax.scatter(X[:, 0], X[:, 1], c = Y, edgecolors=\"k\", cmap = plt.cm.coolwarm, alpha=1)\n",
    "\n",
    "    plt.show()\n"
   ]
  },
  {
   "cell_type": "markdown",
   "id": "3160d5a2-a0d6-4913-b3bd-f622b84532f8",
   "metadata": {
    "tags": []
   },
   "source": [
    "---\n",
    "### <font color=steelblue>DBSCAN</font>\n"
   ]
  },
  {
   "cell_type": "code",
   "execution_count": 19,
   "id": "52cfd490-1926-46d3-8c2e-19c3cb35a545",
   "metadata": {},
   "outputs": [],
   "source": [
    "from sklearn.cluster import DBSCAN"
   ]
  },
  {
   "cell_type": "code",
   "execution_count": 20,
   "id": "20d526ab-c7ba-4e32-a394-b002f6a59aff",
   "metadata": {},
   "outputs": [
    {
     "name": "stdout",
     "output_type": "stream",
     "text": [
      "Estimated number of clusters: 5\n",
      "Estimated number of noise points: 228\n",
      "Homogeneity: 0.040\n",
      "Completeness: 0.031\n",
      "V-measure: 0.035\n",
      "Adjusted Rand Index: -0.051\n",
      "Adjusted Mutual Information: 0.034\n"
     ]
    }
   ],
   "source": [
    "#Features auswählen\n",
    "features = ['tenure', 'MonthlyCharges']\n",
    "\n",
    "x2_train = pd.DataFrame({features[0] : x_train[features[0]], features[1] : x_train[features[1]]})\n",
    "x2_test = pd.DataFrame({features[0] : x_test[features[0]], features[1] : x_test[features[1]]})\n",
    "\n",
    "#Training\n",
    "db = DBSCAN(eps=0.1, min_samples=10).fit(x2_train)\n",
    "clusters = db.fit_predict(x2_train)\n",
    "\n",
    "#Auswertung\n",
    "core_samples_mask = np.zeros_like(db.labels_, dtype=bool)\n",
    "core_samples_mask[db.core_sample_indices_] = True\n",
    "labels = db.labels_\n",
    "n_clusters_ = len(set(labels)) - (1 if -1 in labels else 0)\n",
    "n_noise_ = list(labels).count(-1)\n",
    "\n",
    "print(\"Estimated number of clusters: %d\" % n_clusters_)\n",
    "print(\"Estimated number of noise points: %d\" % n_noise_)\n",
    "print(\"Homogeneity: %0.3f\" % metrics.homogeneity_score(y_train, labels))\n",
    "print(\"Completeness: %0.3f\" % metrics.completeness_score(y_train, labels))\n",
    "print(\"V-measure: %0.3f\" % metrics.v_measure_score(y_train, labels))\n",
    "print(\"Adjusted Rand Index: %0.3f\" % metrics.adjusted_rand_score(y_train, labels))\n",
    "print(\n",
    "    \"Adjusted Mutual Information: %0.3f\"\n",
    "    % metrics.adjusted_mutual_info_score(y_train, labels)\n",
    ")\n",
    "\n",
    "#Darstellung\n",
    "unique_labels = set(labels)\n",
    "colors = [plt.cm.Spectral(each) for each in np.linspace(0, 1, len(unique_labels))]\n",
    "\n",
    "if flagShowFigures: \n",
    "    fig, ax = plt.subplots()\n",
    "    plt.rcParams[\"figure.figsize\"] = (12, 12)\n",
    "\n",
    "    ax.scatter(x2_train[features[0]], x2_train[features[1]], c=clusters, edgecolors=\"k\", cmap = cmap, alpha=1)\n",
    "\n",
    "    plt.show()\n",
    "\n"
   ]
  },
  {
   "cell_type": "markdown",
   "id": "c0fa0995-daa0-4b34-bfae-11d888615f51",
   "metadata": {
    "tags": []
   },
   "source": [
    "---\n",
    "### <font color=steelblue>Lineare Regression</font>\n"
   ]
  },
  {
   "cell_type": "code",
   "execution_count": 21,
   "id": "b367e38e-0e0c-4044-a7cc-21d048df9be1",
   "metadata": {},
   "outputs": [],
   "source": [
    "from sklearn.linear_model import LinearRegression"
   ]
  },
  {
   "cell_type": "code",
   "execution_count": 22,
   "id": "b828eeed-7e66-403b-9bae-d0edb7ba4f5a",
   "metadata": {},
   "outputs": [
    {
     "name": "stdout",
     "output_type": "stream",
     "text": [
      "Coefficients: \n",
      " [[0.99989113]]\n",
      "MSE: 1.46\n",
      "R-Squared: -6.47\n"
     ]
    }
   ],
   "source": [
    "#Features auswählen\n",
    "features = ['CalculatedTotalCharges', 'TotalCharges']\n",
    "\n",
    "#Wir nehmen die 2. Dimension als Ergebnisgröße\n",
    "x2_train = pd.DataFrame({features[0] : x_train[features[0]]})\n",
    "yLin_train = pd.DataFrame({features[1] : x_train[features[1]]})\n",
    "\n",
    "x2_test = pd.DataFrame({features[0] : x_test[features[0]]})\n",
    "yLin_test = pd.DataFrame({features[1] : x_test[features[1]]})\n",
    "\n",
    "#Modelltraining\n",
    "regModel = LinearRegression()\n",
    "regModel.fit(x2_train, yLin_train)\n",
    "\n",
    "#Abruf mit Testdaten\n",
    "predicted_y = regModel.predict(x2_test)\n",
    "\n",
    "#Auswertung\n",
    "print(\"Coefficients: \\n\", regModel.coef_)\n",
    "print(\"MSE: %.2f\" % mean_squared_error(y_test, predicted_y))\n",
    "print(\"R-Squared: %.2f\" % r2_score(y_test, predicted_y))\n",
    "\n",
    "#Darstellung\n",
    "if flagShowFigures: \n",
    "    fig, ax = plt.subplots(1,2)\n",
    "    plt.rcParams[\"figure.figsize\"] = (24, 12)\n",
    "\n",
    "    ax[0].scatter(x2_train[features[0]], yLin_train[features[1]], edgecolors=\"k\", cmap = cmap, alpha=1)\n",
    "    ax[0].set_title('Training')\n",
    "\n",
    "    ax[1].scatter(x2_test[features[0]], predicted_y, edgecolors=\"k\", cmap = cmap, alpha=1)\n",
    "    ax[1].set_title('Test')\n",
    "\n",
    "    plt.show()\n"
   ]
  },
  {
   "cell_type": "markdown",
   "id": "06ae1a70-6eb8-4dcd-837b-23b8b1eb1e35",
   "metadata": {
    "tags": []
   },
   "source": [
    "---\n",
    "### <font color=steelblue>Logistische Regression</font>\n"
   ]
  },
  {
   "cell_type": "code",
   "execution_count": 23,
   "id": "2ffd6e5f-cdcc-45f3-9155-4678343777e5",
   "metadata": {},
   "outputs": [],
   "source": [
    "from sklearn.linear_model import LogisticRegression"
   ]
  },
  {
   "cell_type": "code",
   "execution_count": 24,
   "id": "12876d34-5eba-4039-a7db-2e956abd3260",
   "metadata": {},
   "outputs": [
    {
     "name": "stdout",
     "output_type": "stream",
     "text": [
      "              precision    recall  f1-score   support\n",
      "\n",
      "           0       0.74      0.99      0.84      1549\n",
      "           1       0.45      0.02      0.05       561\n",
      "\n",
      "    accuracy                           0.73      2110\n",
      "   macro avg       0.59      0.51      0.45      2110\n",
      "weighted avg       0.66      0.73      0.63      2110\n",
      "\n"
     ]
    },
    {
     "data": {
      "image/png": "[encoded data removed]",
      "text/plain": [
       "<Figure size 288x216 with 2 Axes>"
      ]
     },
     "metadata": {
      "needs_background": "light"
     },
     "output_type": "display_data"
    }
   ],
   "source": [
    "#Features auswählen\n",
    "features = ['SeniorCitizen', 'PaymentMethod']\n",
    "\n",
    "x2_train = pd.DataFrame({features[0] : x_train[features[0]], features[1] : x_train[features[1]]})\n",
    "x2_test = pd.DataFrame({features[0] : x_test[features[0]], features[1] : x_test[features[1]]})\n",
    "\n",
    "#Training\n",
    "lrModel = LogisticRegression()\n",
    "lrModel.fit(x2_train, y_train)\n",
    "\n",
    "#Abruf mit Testdaten\n",
    "predicted_y = lrModel.predict(x2_test)\n",
    "\n",
    "#Auswertung\n",
    "print(classification_report(y_test, predicted_y))\n",
    "\n",
    "showConfusionMatrix(y_test, predicted_y)\n",
    "\n",
    "#Darstellung\n",
    "if flagShowFigures: \n",
    "    plt.rcParams[\"figure.figsize\"] = (12,12)\n",
    "\n",
    "    cmap = plt.cm.coolwarm\n",
    "    ax = plt.subplot()\n",
    "\n",
    "    DecisionBoundaryDisplay.from_estimator(\n",
    "        lrModel, \n",
    "        x2_test,\n",
    "        cmap = cmap, \n",
    "        alpha=0.8, \n",
    "        ax=ax, \n",
    "        eps=0.5,\n",
    "        xlabel=features[0],\n",
    "        ylabel=features[1],\n",
    "    )\n",
    "\n",
    "    ax.scatter(x2_test[features[0]] , x2_test[features[1]] , c=y_test, edgecolors=\"k\", s = 200, cmap = cmap, alpha=0.01)"
   ]
  },
  {
   "cell_type": "markdown",
   "id": "1592a24f-617f-4473-a9c4-985fa4183def",
   "metadata": {
    "tags": []
   },
   "source": [
    "---\n",
    "### <font color=steelblue>Decision Trees</font>\n"
   ]
  },
  {
   "cell_type": "code",
   "execution_count": 25,
   "id": "a1921b62-6f9f-4d3e-819c-e422b37a82c7",
   "metadata": {},
   "outputs": [],
   "source": [
    "from sklearn.tree import DecisionTreeClassifier\n",
    "from sklearn import tree\n",
    "import graphviz"
   ]
  },
  {
   "cell_type": "code",
   "execution_count": 26,
   "id": "72f3d009-a279-49c1-b51c-b6a26aa65265",
   "metadata": {},
   "outputs": [
    {
     "name": "stdout",
     "output_type": "stream",
     "text": [
      "              precision    recall  f1-score   support\n",
      "\n",
      "           0       0.76      0.95      0.84      1549\n",
      "           1       0.56      0.18      0.27       561\n",
      "\n",
      "    accuracy                           0.74      2110\n",
      "   macro avg       0.66      0.56      0.56      2110\n",
      "weighted avg       0.71      0.74      0.69      2110\n",
      "\n"
     ]
    },
    {
     "data": {
      "image/png": "[encoded data removed]",
      "text/plain": [
       "<Figure size 288x216 with 2 Axes>"
      ]
     },
     "metadata": {
      "needs_background": "light"
     },
     "output_type": "display_data"
    },
    {
     "name": "stdout",
     "output_type": "stream",
     "text": [
      "Tiefe:  3\n",
      "Anzahl Leafs:  8\n"
     ]
    }
   ],
   "source": [
    "#Features auswählen\n",
    "features = ['SeniorCitizen', 'PaymentMethod']\n",
    "\n",
    "x2_train = pd.DataFrame({features[0] : x_train[features[0]], features[1] : x_train[features[1]]})\n",
    "x2_test = pd.DataFrame({features[0] : x_test[features[0]], features[1] : x_test[features[1]]})\n",
    "\n",
    "#Training\n",
    "dtModel = DecisionTreeClassifier(\n",
    "    criterion='entropy',\n",
    ")\n",
    "dtModel.fit(x2_train,y_train)\n",
    "\n",
    "#Abruf mit Testdaten\n",
    "predicted_y = dtModel.predict(x2_test)\n",
    "\n",
    "#Auswertung\n",
    "print(classification_report(y_test, predicted_y))\n",
    "\n",
    "showConfusionMatrix(y_test, predicted_y)\n",
    " \n",
    "print(\"Tiefe: \", dtModel.get_depth())\n",
    "print(\"Anzahl Leafs: \", dtModel.get_n_leaves())\n"
   ]
  },
  {
   "cell_type": "code",
   "execution_count": 27,
   "id": "6652093e-9c0c-40b2-8b65-adc2db3972d1",
   "metadata": {},
   "outputs": [],
   "source": [
    "#Tree darstellen\n",
    "if flagShowFigures: \n",
    "    dot_data = tree.export_graphviz(dtModel, out_file=None, \n",
    "                                    feature_names = features,  \n",
    "                                    class_names = ['no Churn','Churn'],\n",
    "                                    filled = True)\n",
    "    graph = graphviz.Source(dot_data, format=\"png\") \n",
    "    graph"
   ]
  },
  {
   "cell_type": "markdown",
   "id": "5409e362-7f31-4db5-80d8-c071ad12b44a",
   "metadata": {
    "tags": []
   },
   "source": [
    "---\n",
    "### <font color=steelblue>Random Forest</font>\n"
   ]
  },
  {
   "cell_type": "code",
   "execution_count": 28,
   "id": "ed3e7fcc-b61e-4065-a070-9ebfd2508d87",
   "metadata": {},
   "outputs": [],
   "source": [
    "from sklearn.ensemble import RandomForestClassifier"
   ]
  },
  {
   "cell_type": "code",
   "execution_count": 29,
   "id": "3ee648b5-9580-428f-87f4-5eac9f925e7a",
   "metadata": {},
   "outputs": [
    {
     "name": "stdout",
     "output_type": "stream",
     "text": [
      "              precision    recall  f1-score   support\n",
      "\n",
      "           0       0.76      0.95      0.84      1549\n",
      "           1       0.56      0.18      0.27       561\n",
      "\n",
      "    accuracy                           0.74      2110\n",
      "   macro avg       0.66      0.56      0.56      2110\n",
      "weighted avg       0.71      0.74      0.69      2110\n",
      "\n"
     ]
    },
    {
     "data": {
      "image/png": "[encoded data removed]",
      "text/plain": [
       "<Figure size 288x216 with 2 Axes>"
      ]
     },
     "metadata": {
      "needs_background": "light"
     },
     "output_type": "display_data"
    }
   ],
   "source": [
    "#Features auswählen\n",
    "features = ['SeniorCitizen', 'PaymentMethod']\n",
    "\n",
    "x2_train = pd.DataFrame({features[0] : x_train[features[0]], features[1] : x_train[features[1]]})\n",
    "x2_test = pd.DataFrame({features[0] : x_test[features[0]], features[1] : x_test[features[1]]})\n",
    "\n",
    "#Training\n",
    "rfModel = RandomForestClassifier(\n",
    "    n_estimators = 100, \n",
    "    criterion='entropy'\n",
    ")\n",
    "rfModel.fit(x2_train,y_train)\n",
    "\n",
    "#Abruf mit Testdaten\n",
    "predicted_y = rfModel.predict(x2_test)\n",
    "\n",
    "#Auswertung\n",
    "print(classification_report(y_test, predicted_y))\n",
    "\n",
    "showConfusionMatrix(y_test, predicted_y)\n"
   ]
  },
  {
   "cell_type": "markdown",
   "id": "a98acb12-d60f-467f-b143-c8c4de151903",
   "metadata": {
    "tags": []
   },
   "source": [
    "---\n",
    "### <font color=steelblue>Naive Bayes</font>\n"
   ]
  },
  {
   "cell_type": "code",
   "execution_count": 30,
   "id": "96835c11-0309-4ee5-a481-fea121aaa6bc",
   "metadata": {},
   "outputs": [],
   "source": [
    "from sklearn.naive_bayes import GaussianNB"
   ]
  },
  {
   "cell_type": "code",
   "execution_count": 31,
   "id": "e36ce0d0-4272-4c16-b9b0-2a4dbceee981",
   "metadata": {},
   "outputs": [
    {
     "name": "stdout",
     "output_type": "stream",
     "text": [
      "              precision    recall  f1-score   support\n",
      "\n",
      "           0       0.77      0.90      0.83      1549\n",
      "           1       0.47      0.23      0.31       561\n",
      "\n",
      "    accuracy                           0.73      2110\n",
      "   macro avg       0.62      0.57      0.57      2110\n",
      "weighted avg       0.69      0.73      0.69      2110\n",
      "\n"
     ]
    },
    {
     "data": {
      "image/png": "[encoded data removed]",
      "text/plain": [
       "<Figure size 288x216 with 2 Axes>"
      ]
     },
     "metadata": {
      "needs_background": "light"
     },
     "output_type": "display_data"
    }
   ],
   "source": [
    "#Features auswählen\n",
    "features = ['SeniorCitizen', 'PaymentMethod']\n",
    "\n",
    "x2_train = pd.DataFrame({features[0] : x_train[features[0]], features[1] : x_train[features[1]]})\n",
    "x2_test = pd.DataFrame({features[0] : x_test[features[0]], features[1] : x_test[features[1]]})\n",
    "\n",
    "#Training\n",
    "nbModel = GaussianNB()\n",
    "nbModel.fit(x2_train,y_train)\n",
    "\n",
    "#Abrufen mit Testdaten\n",
    "predicted_y = nbModel.predict(x2_test)\n",
    "\n",
    "#Auswertung\n",
    "print(classification_report(y_test, predicted_y))\n",
    "\n",
    "showConfusionMatrix(y_test, predicted_y)\n",
    "\n",
    "#Darstellung\n",
    "if flagShowFigures: \n",
    "    plt.rcParams[\"figure.figsize\"] = (12,12)\n",
    "\n",
    "    cmap = plt.cm.coolwarm\n",
    "    ax = plt.subplot()\n",
    "\n",
    "    DecisionBoundaryDisplay.from_estimator(\n",
    "        nbModel, \n",
    "        x2_test,\n",
    "        cmap = cmap, \n",
    "        alpha=0.8, \n",
    "        ax=ax, \n",
    "        eps=0.5,\n",
    "        xlabel=features[0],\n",
    "        ylabel=features[1],\n",
    "    )\n",
    "\n",
    "    ax.scatter(x2_test[features[0]] , x2_test[features[1]] , c=y_test, edgecolors=\"k\", s = 200, cmap = cmap, alpha=0.01)"
   ]
  },
  {
   "cell_type": "markdown",
   "id": "4fe98fd8-3edb-4166-9386-b623c7a821c5",
   "metadata": {
    "tags": []
   },
   "source": [
    "---\n",
    "### <font color=steelblue>Support Vector Machines</font>\n"
   ]
  },
  {
   "cell_type": "code",
   "execution_count": 32,
   "id": "81e6a18f-b4ad-4c2d-8551-5469ccb056b1",
   "metadata": {},
   "outputs": [],
   "source": [
    "from sklearn.svm import SVC\n",
    "from sklearn import svm"
   ]
  },
  {
   "cell_type": "code",
   "execution_count": 33,
   "id": "4e442703-d1a0-49bd-976e-fcde73aaa6f8",
   "metadata": {},
   "outputs": [
    {
     "name": "stdout",
     "output_type": "stream",
     "text": [
      "              precision    recall  f1-score   support\n",
      "\n",
      "           0       0.74      0.99      0.84      1549\n",
      "           1       0.45      0.02      0.05       561\n",
      "\n",
      "    accuracy                           0.73      2110\n",
      "   macro avg       0.59      0.51      0.45      2110\n",
      "weighted avg       0.66      0.73      0.63      2110\n",
      "\n"
     ]
    },
    {
     "data": {
      "image/png": "[encoded data removed]",
      "text/plain": [
       "<Figure size 288x216 with 2 Axes>"
      ]
     },
     "metadata": {
      "needs_background": "light"
     },
     "output_type": "display_data"
    }
   ],
   "source": [
    "#Features auswählen\n",
    "features = ['SeniorCitizen', 'PaymentMethod']\n",
    "\n",
    "x2_train = pd.DataFrame({features[0] : x_train[features[0]], features[1] : x_train[features[1]]})\n",
    "x2_test = pd.DataFrame({features[0] : x_test[features[0]], features[1] : x_test[features[1]]})\n",
    "\n",
    "#Training\n",
    "C = 1.0 # SVM regularization parameter\n",
    "svmModel = SVC(\n",
    "    #kernel=\"linear\",\n",
    "    #kernel=\"rbf\", gamma=0.7,  \n",
    "    kernel=\"poly\", degree=3, gamma=\"auto\",\n",
    "    C=C\n",
    ")\n",
    "\n",
    "svmModel.fit(x2_train,y_train)\n",
    "\n",
    "#Abruf mit Testdateb\n",
    "predicted_y = svmModel.predict(x2_test)\n",
    "\n",
    "#Auswertung\n",
    "print(classification_report(y_test, predicted_y))\n",
    "\n",
    "showConfusionMatrix(y_test, predicted_y)\n",
    "\n",
    "#Darstellung\n",
    "if flagShowFigures: \n",
    "    plt.rcParams[\"figure.figsize\"] = (12,12)\n",
    "\n",
    "    cmap = plt.cm.coolwarm\n",
    "    ax = plt.subplot()\n",
    "\n",
    "    DecisionBoundaryDisplay.from_estimator(\n",
    "        svmModel, \n",
    "        x2_test,\n",
    "        cmap = cmap, \n",
    "        alpha=0.8, \n",
    "        ax=ax, \n",
    "        eps=0.5,\n",
    "        xlabel=features[0],\n",
    "        ylabel=features[1],\n",
    "    )\n",
    "\n",
    "    ax.scatter(x2_test[features[0]] , x2_test[features[1]] , c=y_test, edgecolors=\"k\", s = 200, cmap = cmap, alpha=0.01)"
   ]
  },
  {
   "cell_type": "markdown",
   "id": "10c9cf01-2b9f-451e-bcfb-9cf0ce939e25",
   "metadata": {
    "tags": []
   },
   "source": [
    "#### SVM Beispiel Iris Data Set"
   ]
  },
  {
   "cell_type": "markdown",
   "id": "12207e7c-089d-4aca-bb45-7af586d9015e",
   "metadata": {},
   "source": [
    "Beispieldaten: Unterscheidung von Schwertlilien (im Englischen Iris): Fisher's Iris data set \n"
   ]
  },
  {
   "cell_type": "code",
   "execution_count": 34,
   "id": "abbd8de7-a8ec-4601-b540-6dca8932a427",
   "metadata": {},
   "outputs": [],
   "source": [
    "from sklearn import datasets\n",
    "\n",
    "# Laden des Datensets\n",
    "iris = datasets.load_iris()"
   ]
  },
  {
   "cell_type": "code",
   "execution_count": 35,
   "id": "34ad48b9-7574-441c-b1ab-462429307994",
   "metadata": {},
   "outputs": [],
   "source": [
    "\n",
    "# Erste beiden Features\n",
    "# Sepal length\n",
    "# Sepal width\n",
    "X = iris.data[:, :2]\n",
    "Y = iris.target\n",
    "\n",
    "#SVM initalialisieren\n",
    "C = 1.0  # SVM regularization parameter\n",
    "models = (\n",
    "    svm.SVC(kernel=\"linear\", C=C),\n",
    "    svm.LinearSVC(C=C, max_iter=10000),\n",
    "    svm.SVC(kernel=\"rbf\", gamma=0.7, C=C),\n",
    "    svm.SVC(kernel=\"poly\", degree=3, gamma=\"auto\", C=C),\n",
    ")\n",
    "#Training\n",
    "models = (clf.fit(X, Y) for clf in models)\n",
    "\n",
    "#Titel für die Plots\n",
    "titles = (\n",
    "    \"SVC with linear kernel\",\n",
    "    \"LinearSVC (linear kernel)\",\n",
    "    \"SVC with RBF kernel\",\n",
    "    \"SVC with polynomial (degree 3) kernel\",\n",
    ")\n",
    "\n",
    "\n",
    "#2x2 Grid für dei Plots\n",
    "if flagShowFigures: \n",
    "    plt.rcParams[\"figure.figsize\"] = (14, 14)\n",
    "    fig, sub = plt.subplots(2, 2)\n",
    "    plt.subplots_adjust(wspace=0.4, hspace=0.4)\n",
    "\n",
    "    X0, X1 = X[:, 0], X[:, 1]\n",
    "\n",
    "    for clf, title, ax in zip(models, titles, sub.flatten()):\n",
    "        disp = DecisionBoundaryDisplay.from_estimator(\n",
    "            clf,\n",
    "            X,\n",
    "            response_method=\"predict\",\n",
    "            cmap=plt.cm.coolwarm,\n",
    "            alpha=0.8,\n",
    "            ax=ax,\n",
    "            xlabel=iris.feature_names[0],\n",
    "            ylabel=iris.feature_names[1],\n",
    "        )\n",
    "        ax.scatter(X0, X1, c=Y, cmap=plt.cm.coolwarm, s=20, edgecolors=\"k\")\n",
    "        ax.set_xticks(())\n",
    "        ax.set_yticks(())\n",
    "        ax.set_title(title)\n",
    "\n",
    "    plt.show()\n"
   ]
  },
  {
   "cell_type": "code",
   "execution_count": 36,
   "id": "1f692c8b-3565-43e0-904c-db69b811123b",
   "metadata": {},
   "outputs": [
    {
     "name": "stdout",
     "output_type": "stream",
     "text": [
      "SVC with linear kernel\n",
      "              precision    recall  f1-score   support\n",
      "\n",
      "           0       1.00      1.00      1.00        50\n",
      "           1       0.72      0.76      0.74        50\n",
      "           2       0.74      0.70      0.72        50\n",
      "\n",
      "    accuracy                           0.82       150\n",
      "   macro avg       0.82      0.82      0.82       150\n",
      "weighted avg       0.82      0.82      0.82       150\n",
      "\n",
      "LinearSVC (linear kernel)\n",
      "              precision    recall  f1-score   support\n",
      "\n",
      "           0       0.96      0.98      0.97        50\n",
      "           1       0.75      0.60      0.67        50\n",
      "           2       0.69      0.82      0.75        50\n",
      "\n",
      "    accuracy                           0.80       150\n",
      "   macro avg       0.80      0.80      0.80       150\n",
      "weighted avg       0.80      0.80      0.80       150\n",
      "\n",
      "SVC with RBF kernel\n",
      "              precision    recall  f1-score   support\n",
      "\n",
      "           0       1.00      1.00      1.00        50\n",
      "           1       0.74      0.74      0.74        50\n",
      "           2       0.74      0.74      0.74        50\n",
      "\n",
      "    accuracy                           0.83       150\n",
      "   macro avg       0.83      0.83      0.83       150\n",
      "weighted avg       0.83      0.83      0.83       150\n",
      "\n",
      "SVC with polynomial (degree 3) kernel\n",
      "              precision    recall  f1-score   support\n",
      "\n",
      "           0       1.00      1.00      1.00        50\n",
      "           1       0.70      0.76      0.73        50\n",
      "           2       0.74      0.68      0.71        50\n",
      "\n",
      "    accuracy                           0.81       150\n",
      "   macro avg       0.81      0.81      0.81       150\n",
      "weighted avg       0.81      0.81      0.81       150\n",
      "\n"
     ]
    }
   ],
   "source": [
    "#Auswertung\n",
    "for clf, title in zip(models, titles):\n",
    "    predicted_Y = clf.predict(X)\n",
    "    print(title) \n",
    "    print(classification_report(Y, predicted_Y))    \n",
    "    #showConfusionMatrix(Y, predicted_Y)"
   ]
  },
  {
   "cell_type": "markdown",
   "id": "cca432ea-f750-433a-87d1-3f84bc55c382",
   "metadata": {
    "tags": []
   },
   "source": [
    "---\n",
    "### <font color=steelblue>Neuronale Netzwerke</font>\n"
   ]
  },
  {
   "cell_type": "markdown",
   "id": "e132103b-e6f0-4ba2-9988-b8ad2184fe3a",
   "metadata": {
    "tags": []
   },
   "source": [
    "#### Fallbeispiel der Kundenabwanderung in einem Telekommunikationsunternehmen"
   ]
  },
  {
   "cell_type": "code",
   "execution_count": 37,
   "id": "2f5000ca-6f99-4df6-b626-55c05b4bbd46",
   "metadata": {},
   "outputs": [],
   "source": [
    "from sklearn.neural_network import MLPClassifier"
   ]
  },
  {
   "cell_type": "code",
   "execution_count": 38,
   "id": "31671d5a-9a16-4cbc-81af-b0db21a6e1e6",
   "metadata": {},
   "outputs": [
    {
     "name": "stdout",
     "output_type": "stream",
     "text": [
      "              precision    recall  f1-score   support\n",
      "\n",
      "           0       0.76      0.95      0.84      1549\n",
      "           1       0.56      0.18      0.27       561\n",
      "\n",
      "    accuracy                           0.74      2110\n",
      "   macro avg       0.66      0.56      0.56      2110\n",
      "weighted avg       0.71      0.74      0.69      2110\n",
      "\n"
     ]
    },
    {
     "data": {
      "image/png": "[encoded data removed]",
      "text/plain": [
       "<Figure size 288x216 with 2 Axes>"
      ]
     },
     "metadata": {
      "needs_background": "light"
     },
     "output_type": "display_data"
    }
   ],
   "source": [
    "#Features auswählen\n",
    "features = ['SeniorCitizen', 'PaymentMethod']\n",
    "\n",
    "x2_train = pd.DataFrame({features[0] : x_train[features[0]], features[1] : x_train[features[1]]})\n",
    "x2_test = pd.DataFrame({features[0] : x_test[features[0]], features[1] : x_test[features[1]]})\n",
    "\n",
    "#Training\n",
    "C = 1.0 # SVM regularization parameter\n",
    "nnModel = MLPClassifier(\n",
    "    hidden_layer_sizes = [20, 20],\n",
    "    activation = 'relu',\n",
    "    solver= 'adam', #sgd #stochastic gradient descent\n",
    "    random_state = 100\n",
    ")\n",
    "\n",
    "nnModel.fit(x2_train,y_train)\n",
    "\n",
    "#Abruf mit Testdateb\n",
    "predicted_y = nnModel.predict(x2_test)\n",
    "\n",
    "#Auswertung\n",
    "print(classification_report(y_test, predicted_y))\n",
    "\n",
    "showConfusionMatrix(y_test, predicted_y)\n",
    "\n",
    "if flagShowFigures: \n",
    "    plt.rcParams[\"figure.figsize\"] = (12,6)\n",
    "    fig, ax = plt.subplots()\n",
    "    cmap = plt.cm.coolwarm\n",
    "    ax = plt.subplot()\n",
    "    ax.plot(nnModel.loss_curve_, linewidth=2.0)\n",
    "    plt.show()\n",
    "\n",
    "    #Darstellung\n",
    "    plt.rcParams[\"figure.figsize\"] = (12,12)\n",
    "    fig, ax = plt.subplots()\n",
    "\n",
    "    cmap = plt.cm.coolwarm\n",
    "    ax = plt.subplot()\n",
    "\n",
    "    DecisionBoundaryDisplay.from_estimator(\n",
    "        nnModel, \n",
    "        x2_test,\n",
    "        cmap = cmap, \n",
    "        alpha=0.8, \n",
    "        ax=ax, \n",
    "        eps=0.5,\n",
    "        xlabel=features[0],\n",
    "        ylabel=features[1],\n",
    "    )\n",
    "\n",
    "    ax.scatter(x2_test[features[0]] , x2_test[features[1]] , c=y_test, edgecolors=\"k\", s = 200, cmap = cmap, alpha=0.01)\n",
    "    plt.show()"
   ]
  },
  {
   "cell_type": "markdown",
   "id": "49e4a157-5a3c-40d5-8bb3-219ab4db2f8a",
   "metadata": {
    "tags": []
   },
   "source": [
    "#### Fallbeispiel Handschrifterkennung (MINST-Datensatz)"
   ]
  },
  {
   "cell_type": "code",
   "execution_count": 39,
   "id": "7264e9dd-a0e9-4fb0-8e90-f73b04f997f3",
   "metadata": {},
   "outputs": [
    {
     "data": {
      "text/plain": [
       "(1797, 8, 8)"
      ]
     },
     "execution_count": 39,
     "metadata": {},
     "output_type": "execute_result"
    }
   ],
   "source": [
    "import warnings\n",
    "import matplotlib.pyplot as plt\n",
    "from sklearn.datasets import fetch_openml\n",
    "from sklearn.exceptions import ConvergenceWarning\n",
    "from sklearn.neural_network import MLPClassifier\n",
    "from sklearn.model_selection import train_test_split\n",
    "\n",
    "#Daten laden\n",
    "digits = datasets.load_digits()\n",
    "\n",
    "digits.images.shape"
   ]
  },
  {
   "cell_type": "code",
   "execution_count": 40,
   "id": "d131d042-4be6-4b20-94d7-47ca185811ba",
   "metadata": {},
   "outputs": [
    {
     "data": {
      "image/png": "[encoded data removed]",
      "text/plain": [
       "<Figure size 720x216 with 4 Axes>"
      ]
     },
     "metadata": {
      "needs_background": "light"
     },
     "output_type": "display_data"
    }
   ],
   "source": [
    "#Erste 4 Ziffern zeichnen\n",
    "_, axes = plt.subplots(nrows=1, ncols=4, figsize=(10, 3))\n",
    "for ax, image, label in zip(axes, digits.images, digits.target):\n",
    "    ax.set_axis_off()\n",
    "    ax.imshow(image, cmap=plt.cm.gray_r, interpolation=\"nearest\")\n",
    "    ax.set_title(\"Training: %i\" % int(label))\n",
    "    \n",
    "# Daten in Trainings- und testdaten aufspalten\n",
    "# flatten the images\n",
    "n_samples = len(digits.images)\n",
    "\n",
    "data = digits.images.reshape((n_samples, -1))\n",
    "\n",
    "X1_train, X1_test, y1_train, y1_test = train_test_split(data, digits.target, test_size=0.3, shuffle=False)"
   ]
  },
  {
   "cell_type": "code",
   "execution_count": 41,
   "id": "b62121f4-a4bd-409d-afc9-cf2ea24ac8a3",
   "metadata": {},
   "outputs": [
    {
     "name": "stdout",
     "output_type": "stream",
     "text": [
      "Classification report for classifier MLPClassifier(hidden_layer_sizes=(16,), max_iter=1000, random_state=100):\n",
      "              precision    recall  f1-score   support\n",
      "\n",
      "           0       0.98      0.94      0.96        53\n",
      "           1       0.88      0.87      0.88        53\n",
      "           2       0.93      0.98      0.95        53\n",
      "           3       0.89      0.79      0.84        53\n",
      "           4       0.89      0.89      0.89        57\n",
      "           5       0.95      0.95      0.95        56\n",
      "           6       0.90      0.98      0.94        54\n",
      "           7       0.89      0.89      0.89        54\n",
      "           8       0.87      0.92      0.90        52\n",
      "           9       0.96      0.93      0.94        55\n",
      "\n",
      "    accuracy                           0.91       540\n",
      "   macro avg       0.92      0.91      0.91       540\n",
      "weighted avg       0.92      0.91      0.91       540\n",
      "\n",
      "\n"
     ]
    },
    {
     "data": {
      "image/png": "[encoded data removed]",
      "text/plain": [
       "<Figure size 288x216 with 2 Axes>"
      ]
     },
     "metadata": {
      "needs_background": "light"
     },
     "output_type": "display_data"
    }
   ],
   "source": [
    "# Neuronales Netzwerk initialisieren\n",
    "mlp = MLPClassifier(\n",
    "    hidden_layer_sizes=(16,),\n",
    "    max_iter=1000,\n",
    "    alpha=1e-4,\n",
    "    activation = 'relu',\n",
    "    solver= 'adam', #sgd #stochastic gradient descent\n",
    "    random_state=100,\n",
    "    #learning_rate_init=0.2,\n",
    ")\n",
    "#Training\n",
    "mlp.fit(X1_train, y1_train)\n",
    "\n",
    "#Abruf mit Testdaten\n",
    "predicted = mlp.predict(X1_test)\n",
    "\n",
    "#Auswertung\n",
    "print(\n",
    "    f\"Classification report for classifier {mlp}:\\n\"\n",
    "    f\"{metrics.classification_report(y1_test, predicted)}\\n\"\n",
    ")\n",
    "\n",
    "showConfusionMatrix(y1_test, predicted)\n"
   ]
  },
  {
   "cell_type": "markdown",
   "id": "314ad5b4-addf-490d-b88d-e78bcf382622",
   "metadata": {},
   "source": [
    "Schauen wir uns die Testdaten an:"
   ]
  },
  {
   "cell_type": "code",
   "execution_count": 42,
   "id": "0435e530-0a18-4fea-984b-a05299dd5795",
   "metadata": {},
   "outputs": [
    {
     "name": "stdout",
     "output_type": "stream",
     "text": [
      "Die ersten 4 Testdatensätze:\n",
      "\n"
     ]
    },
    {
     "data": {
      "image/png": "[encoded data removed]",
      "text/plain": [
       "<Figure size 720x216 with 4 Axes>"
      ]
     },
     "metadata": {
      "needs_background": "light"
     },
     "output_type": "display_data"
    }
   ],
   "source": [
    "#Die ersten 4 Testdatensätze\n",
    "print(\"Die ersten 4 Testdatensätze:\\n\")\n",
    "_, axes = plt.subplots(nrows=1, ncols=4, figsize=(10, 3))\n",
    "for ax, image, prediction in zip(axes, X1_test, predicted):\n",
    "    ax.set_axis_off()\n",
    "    image = image.reshape(8, 8)\n",
    "    ax.imshow(image, cmap=plt.cm.gray_r, interpolation=\"nearest\")\n",
    "    ax.set_title(f\"Prediction: {prediction}\")\n",
    "\n",
    "plt.show()\n",
    "\n"
   ]
  },
  {
   "cell_type": "markdown",
   "id": "8f5bf823-e1e8-4e4e-b9eb-a0d9823a0b4b",
   "metadata": {},
   "source": [
    "Wie sehen die Koeffizenten in den Hidden-Layern aus?"
   ]
  },
  {
   "cell_type": "code",
   "execution_count": 43,
   "id": "4418b6c4-d588-474c-8019-8518ad3f70d3",
   "metadata": {},
   "outputs": [
    {
     "data": {
      "image/png": "[encoded data removed]",
      "text/plain": [
       "<Figure size 432x432 with 16 Axes>"
      ]
     },
     "metadata": {},
     "output_type": "display_data"
    }
   ],
   "source": [
    "plt.rcParams[\"figure.figsize\"] = (6,6)\n",
    "fig, axes = plt.subplots(4, 4)\n",
    "# use global min / max to ensure all weights are shown on the same scale\n",
    "vmin, vmax = mlp.coefs_[0].min(), mlp.coefs_[0].max()\n",
    "for coef, ax in zip(mlp.coefs_[0].T, axes.ravel()):\n",
    "    ax.matshow(coef.reshape(8,8), cmap=plt.cm.gray, vmin=0.5 * vmin, vmax=0.5 * vmax)\n",
    "    ax.set_xticks(())\n",
    "    ax.set_yticks(())\n",
    "\n",
    "plt.show()"
   ]
  },
  {
   "cell_type": "markdown",
   "id": "0dddb13a-3431-4837-afea-2dc0f61b46e5",
   "metadata": {},
   "source": [
    "Modell speichern"
   ]
  },
  {
   "cell_type": "code",
   "execution_count": 44,
   "id": "2a6d1249-2674-4c41-a9e5-5612cde0a098",
   "metadata": {},
   "outputs": [],
   "source": [
    "import pickle\n",
    "\n",
    "filename = \"ZiffernModellDeployment.pkl\"\n",
    "\n",
    "with open(filename, \"wb\") as file:\n",
    "    pickle.dump(mlp, file)"
   ]
  },
  {
   "cell_type": "markdown",
   "id": "9be51c89-8dcd-47fc-b286-f27b72b206cc",
   "metadata": {},
   "source": [
    "Versuchen wir das gleichemit einer SVM:"
   ]
  },
  {
   "cell_type": "code",
   "execution_count": 45,
   "id": "70395774-2cab-4bee-83c9-7771166a4d89",
   "metadata": {
    "jupyter": {
     "source_hidden": true
    },
    "tags": []
   },
   "outputs": [
    {
     "name": "stdout",
     "output_type": "stream",
     "text": [
      "Classification report for classifier SVC(gamma=0.001):\n",
      "              precision    recall  f1-score   support\n",
      "\n",
      "           0       1.00      0.98      0.99        53\n",
      "           1       0.96      1.00      0.98        53\n",
      "           2       1.00      0.98      0.99        53\n",
      "           3       0.96      0.89      0.92        53\n",
      "           4       0.98      0.95      0.96        57\n",
      "           5       0.95      0.98      0.96        56\n",
      "           6       0.98      0.98      0.98        54\n",
      "           7       1.00      1.00      1.00        54\n",
      "           8       0.91      0.98      0.94        52\n",
      "           9       0.96      0.96      0.96        55\n",
      "\n",
      "    accuracy                           0.97       540\n",
      "   macro avg       0.97      0.97      0.97       540\n",
      "weighted avg       0.97      0.97      0.97       540\n",
      "\n",
      "\n"
     ]
    },
    {
     "data": {
      "image/png": "[encoded data removed]",
      "text/plain": [
       "<Figure size 288x216 with 2 Axes>"
      ]
     },
     "metadata": {
      "needs_background": "light"
     },
     "output_type": "display_data"
    }
   ],
   "source": [
    "# SVM Initialisieren:\n",
    "clf = svm.SVC(gamma=0.001)\n",
    "\n",
    "# Training\n",
    "clf.fit(X1_train, y1_train)\n",
    "\n",
    "#Abruf mit Testdaten\n",
    "predicted_clf = clf.predict(X1_test)\n",
    "\n",
    "#Auswertung\n",
    "print(\n",
    "    f\"Classification report for classifier {clf}:\\n\"\n",
    "    f\"{metrics.classification_report(y1_test, predicted_clf)}\\n\"\n",
    ")\n",
    "\n",
    "showConfusionMatrix(y1_test, predicted)"
   ]
  },
  {
   "cell_type": "code",
   "execution_count": 46,
   "id": "170838a1-0827-402e-b938-92bf5758b0c9",
   "metadata": {},
   "outputs": [
    {
     "name": "stdout",
     "output_type": "stream",
     "text": [
      "Die ersten 4 Testdatensätze:\n",
      "\n"
     ]
    },
    {
     "data": {
      "image/png": "[encoded data removed]",
      "text/plain": [
       "<Figure size 720x216 with 4 Axes>"
      ]
     },
     "metadata": {
      "needs_background": "light"
     },
     "output_type": "display_data"
    }
   ],
   "source": [
    "#Die ersten 4 Testdatensätze\n",
    "print(\"Die ersten 4 Testdatensätze:\\n\")\n",
    "_, axes = plt.subplots(nrows=1, ncols=4, figsize=(10, 3))\n",
    "for ax, image, prediction in zip(axes, X1_test, predicted_clf):\n",
    "    ax.set_axis_off()\n",
    "    image = image.reshape(8, 8)\n",
    "    ax.imshow(image, cmap=plt.cm.gray_r, interpolation=\"nearest\")\n",
    "    ax.set_title(f\"Prediction: {prediction}\")\n",
    "\n",
    "plt.show()"
   ]
  },
  {
   "cell_type": "code",
   "execution_count": null,
   "id": "26781eb2-405d-4ed4-8abb-8e841788f889",
   "metadata": {},
   "outputs": [],
   "source": []
  }
 ],
 "metadata": {
  "kernelspec": {
   "display_name": "Python 3 (ipykernel)",
   "language": "python",
   "name": "python3"
  },
  "language_info": {
   "codemirror_mode": {
    "name": "ipython",
    "version": 3
   },
   "file_extension": ".py",
   "mimetype": "text/x-python",
   "name": "python",
   "nbconvert_exporter": "python",
   "pygments_lexer": "ipython3",
   "version": "3.10.5"
  }
 },
 "nbformat": 4,
 "nbformat_minor": 5
}
