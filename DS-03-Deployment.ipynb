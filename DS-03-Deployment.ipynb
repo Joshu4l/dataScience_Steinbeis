{
 "cells": [
  {
   "cell_type": "markdown",
   "id": "5be369cd-4ada-42c8-a93e-2808f60529d7",
   "metadata": {},
   "source": [
    "# <font color=steelblue>DS-03 Data Science und künstliche Intelligenz</font>"
   ]
  },
  {
   "cell_type": "markdown",
   "id": "c0783cbb-80db-4424-9d9d-1531d61576f8",
   "metadata": {},
   "source": [
    "Deployment eines Jupyter Notebooks als WebApp mit Hilfe von Anvil"
   ]
  },
  {
   "cell_type": "code",
   "execution_count": 1,
   "id": "1ab37a2a-8fcd-4de6-9b30-7835b8a056df",
   "metadata": {},
   "outputs": [],
   "source": [
    "import pandas as pd\n",
    "import numpy as np\n",
    "import matplotlib.pyplot as plt\n",
    "import matplotlib.image as mpimg\n",
    "import PIL\n",
    "from sklearn.neural_network import MLPClassifier\n"
   ]
  },
  {
   "cell_type": "markdown",
   "id": "c34d27ac-98cd-4c2d-8172-b3e558e463f6",
   "metadata": {},
   "source": [
    "Unser Modell laden:"
   ]
  },
  {
   "cell_type": "code",
   "execution_count": 2,
   "id": "6dee5d37-a612-4483-b37b-7f61e8c8e14c",
   "metadata": {},
   "outputs": [],
   "source": [
    "import pickle\n",
    "\n",
    "filename = \"ZiffernModellDeployment.pkl\"\n",
    "\n",
    "with open(filename, \"rb\") as file:\n",
    "    savedModel = pickle.load(file)\n"
   ]
  },
  {
   "cell_type": "markdown",
   "id": "ed01dd26-e46b-4c5d-9e04-94353175a06d",
   "metadata": {},
   "source": [
    "Codeblock für Debug-Zwecke:"
   ]
  },
  {
   "cell_type": "code",
   "execution_count": 3,
   "id": "b7c2f186-e4f2-43e8-b36e-dcc6fb4a97ae",
   "metadata": {},
   "outputs": [
    {
     "name": "stdout",
     "output_type": "stream",
     "text": [
      "64\n",
      "3\n"
     ]
    }
   ],
   "source": [
    "#für Testzwecke\n",
    "import PIL\n",
    "from PIL import Image\n",
    "img = Image.open(\"Bilder/3.png\")\n",
    "\n",
    "img = PIL.ImageOps.grayscale(img)\n",
    "\n",
    "img.thumbnail((8,8), Image.Resampling.BICUBIC)\n",
    "\n",
    "arr = np.array(img)\n",
    "\n",
    "arr = arr/255\n",
    "arr = 1- arr\n",
    "arr = arr*16\n",
    "\n",
    "print(arr.size)\n",
    "transformed = arr.reshape(-1)\n",
    "transformed = np.expand_dims(transformed, axis=0)\n",
    "\n",
    "result = savedModel.predict(transformed)\n",
    "\n",
    "print(result[0])"
   ]
  },
  {
   "cell_type": "markdown",
   "id": "c670615e-3e81-440a-a6cb-8258df75d9aa",
   "metadata": {},
   "source": [
    "Anbindung an Anvil:"
   ]
  },
  {
   "cell_type": "code",
   "execution_count": 4,
   "id": "bdcac337-31f0-42d0-9ab6-904cbbc1c2b2",
   "metadata": {},
   "outputs": [
    {
     "name": "stdout",
     "output_type": "stream",
     "text": [
      "Connecting to wss://anvil.works/uplink\n",
      "Anvil websocket open\n",
      "Connected to \"Default environment\" as SERVER\n"
     ]
    }
   ],
   "source": [
    "import anvil.server\n",
    "anvil.server.connect(\"AWL6UXNZCB5SDHRQRJVR75A2-637E3KHVNIOOIRXR\")"
   ]
  },
  {
   "cell_type": "code",
   "execution_count": 5,
   "id": "4f7c21b5-16f2-44f8-b8a6-2f2de9743ef9",
   "metadata": {},
   "outputs": [],
   "source": [
    "import anvil.media\n",
    "import PIL\n",
    "from PIL import Image\n",
    "\n",
    "@anvil.server.callable\n",
    "\n",
    "def classifyImage(file):\n",
    "    with anvil.media.TempFile(file) as filename:\n",
    "        img = Image.open(filename)\n",
    "    \n",
    "    #Das Bild Skalieren und transformieren, so dass wir das\n",
    "    #gleiche Datenformat haben wie beim Training!  \n",
    "    img = PIL.ImageOps.grayscale(img)\n",
    "    img.thumbnail((8,8), Image.Resampling.BICUBIC)\n",
    "    arr = np.array(img)\n",
    "    \n",
    "    arr = arr/255 #auf 0-1 skalieren\n",
    "    arr = 1 - arr #invertieren\n",
    "    arr = arr*16 #auf 0-16 skalieren, da der dunkelste Wert in den Bilder im MINT Datensatz 16 ist\n",
    "    transformed = arr.reshape(-1)\n",
    "    transformed = np.expand_dims(transformed, axis=0)\n",
    "\n",
    "    #den Klassifizierer mit den Bilddaten aufrufen\n",
    "    result = savedModel.predict(transformed)\n",
    "\n",
    "    return (float(result[0]))\n",
    "\n"
   ]
  }
 ],
 "metadata": {
  "kernelspec": {
   "display_name": "Python 3 (ipykernel)",
   "language": "python",
   "name": "python3"
  },
  "language_info": {
   "codemirror_mode": {
    "name": "ipython",
    "version": 3
   },
   "file_extension": ".py",
   "mimetype": "text/x-python",
   "name": "python",
   "nbconvert_exporter": "python",
   "pygments_lexer": "ipython3",
   "version": "3.10.5"
  }
 },
 "nbformat": 4,
 "nbformat_minor": 5
}
