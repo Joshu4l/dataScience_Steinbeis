{
 "cells": [
  {
   "cell_type": "markdown",
   "id": "4c71c7ed-02f4-45e9-9295-da540f590e88",
   "metadata": {},
   "source": [
    "# <font color=steelblue>DS-03 Data Science und künstliche Intelligenz</font>\n"
   ]
  },
  {
   "cell_type": "markdown",
   "id": "c3311b31-792a-4bb8-899e-33b9a89f7a56",
   "metadata": {},
   "source": []
  },
  {
   "cell_type": "markdown",
   "id": "ee2545cb-6cca-46f8-be41-7b6e1d0ee303",
   "metadata": {},
   "source": [
    "Als erstes schauen wir uns kurz die grundlegenden Möglichkeuten von Jupyter Notebook an:"
   ]
  },
  {
   "cell_type": "markdown",
   "id": "7bafe9fd-29fd-4e84-9114-d59d7476b742",
   "metadata": {
    "tags": []
   },
   "source": [
    "## Markdown\n",
    "\n",
    "Zur Textformatierung kann die Markdown text-to-html Konvertierung verwendet werden:\n",
    "\n",
    "### **Listen:**\n",
    "* Ebene 1\n",
    "  * Ebene 2\n",
    "    * Ebene 3\n",
    "* Ebene 1\n",
    "  * Ebene 2\n",
    "  \n",
    "  \n",
    "\n",
    "\n",
    "|Das|ist|\n",
    "|-|-|\n",
    "|eine | Tabelle|\n",
    "\n",
    "\n",
    "$e^{i\\pi} + 1 = 0$\n",
    "\n",
    "\\begin{equation}\n",
    "e^x=\\sum_{i=0}^\\infty \\frac{1}{i!}x^i\n",
    "\\end{equation}\n",
    "\n",
    "\n"
   ]
  },
  {
   "cell_type": "markdown",
   "id": "e8ae7ee4-fe37-4213-9727-7899ccb246e8",
   "metadata": {},
   "source": [
    "## <font color=grey>Erste Schritte in Python</font>"
   ]
  },
  {
   "cell_type": "markdown",
   "id": "127a4d25-ab85-4c3d-b5fe-c8fb91f2e4b8",
   "metadata": {},
   "source": [
    "Hello Word:"
   ]
  },
  {
   "cell_type": "code",
   "execution_count": 1,
   "id": "c2214c1a-9a87-49b1-a095-b54d8cc706f5",
   "metadata": {},
   "outputs": [
    {
     "name": "stdout",
     "output_type": "stream",
     "text": [
      "Hello, I am Python!\n"
     ]
    }
   ],
   "source": [
    "print(\"Hello, I am Python!\")"
   ]
  },
  {
   "cell_type": "markdown",
   "id": "0eb64194-5fed-4744-85ee-1d5a06f60019",
   "metadata": {},
   "source": [
    "---"
   ]
  },
  {
   "cell_type": "markdown",
   "id": "04a065f2-0d8b-4265-a4e1-08ad3e90b9f4",
   "metadata": {},
   "source": [
    "Einfache Rechenoperationen:"
   ]
  },
  {
   "cell_type": "code",
   "execution_count": 2,
   "id": "98ef1c13-265f-4608-aab8-308e1d43b2a8",
   "metadata": {},
   "outputs": [
    {
     "data": {
      "text/plain": [
       "5.666666666666667"
      ]
     },
     "execution_count": 2,
     "metadata": {},
     "output_type": "execute_result"
    }
   ],
   "source": [
    "17/3"
   ]
  },
  {
   "cell_type": "markdown",
   "id": "493b7681-9503-4037-addc-5e84bc796481",
   "metadata": {},
   "source": [
    "---"
   ]
  },
  {
   "cell_type": "markdown",
   "id": "53381306-1897-4603-80ec-77e7875b67f9",
   "metadata": {},
   "source": [
    "Arrays und for-Schleifen:"
   ]
  },
  {
   "cell_type": "code",
   "execution_count": 3,
   "id": "67faf10e-cba4-4c4d-ae0d-82b7138c0ad3",
   "metadata": {},
   "outputs": [
    {
     "name": "stdout",
     "output_type": "stream",
     "text": [
      "The product is: 384\n"
     ]
    }
   ],
   "source": [
    "numbers = [2,4,6,8]\n",
    "product = 1\n",
    "for number in numbers:\n",
    "    product = product * number\n",
    "print('The product is:', product)\n"
   ]
  },
  {
   "cell_type": "markdown",
   "id": "fb5385c0-7318-4d51-bd7a-98c05fb9f2f3",
   "metadata": {},
   "source": [
    "---"
   ]
  },
  {
   "cell_type": "markdown",
   "id": "94c9c7d2-6da7-4dfa-8d81-af721c740f55",
   "metadata": {},
   "source": [
    "Textmanipulation:"
   ]
  },
  {
   "cell_type": "code",
   "execution_count": 4,
   "id": "8a04befb-0de3-46b6-93d5-ee159020c804",
   "metadata": {},
   "outputs": [
    {
     "name": "stdout",
     "output_type": "stream",
     "text": [
      "['BANANA', 'APPLE', 'LIME']\n"
     ]
    }
   ],
   "source": [
    "fruits = ['Banana', 'Apple', 'Lime']\n",
    "FRUITS = [fruit.upper() for fruit in fruits]\n",
    "print(FRUITS)"
   ]
  },
  {
   "cell_type": "markdown",
   "id": "f4287e87-57f3-425f-bfb7-37f4d05809fe",
   "metadata": {},
   "source": [
    "---"
   ]
  },
  {
   "cell_type": "markdown",
   "id": "aad799b8-5a22-46f6-a5ea-4ad4da29d3ea",
   "metadata": {},
   "source": [
    "Funktionen:"
   ]
  },
  {
   "cell_type": "code",
   "execution_count": 5,
   "id": "6c327053-48f0-4853-9016-61e6e45b3246",
   "metadata": {},
   "outputs": [],
   "source": [
    "def fib(n):\n",
    "    a, b = 0, 1\n",
    "    while a < n:\n",
    "        print(a, end = ' ')\n",
    "        a, b =b, a+b\n",
    "    print()\n"
   ]
  },
  {
   "cell_type": "code",
   "execution_count": 6,
   "id": "3b46c869-e211-4657-a827-bdcea5cf1c36",
   "metadata": {
    "pycharm": {
     "name": "#%%\n"
    }
   },
   "outputs": [
    {
     "name": "stdout",
     "output_type": "stream",
     "text": [
      "0 1 1 2 3 5 8 13 21 34 55 89 144 233 377 610 987 \n"
     ]
    }
   ],
   "source": [
    "fib(1000)"
   ]
  }
 ],
 "metadata": {
  "kernelspec": {
   "display_name": "Python 3 (ipykernel)",
   "language": "python",
   "name": "python3"
  },
  "language_info": {
   "codemirror_mode": {
    "name": "ipython",
    "version": 3
   },
   "file_extension": ".py",
   "mimetype": "text/x-python",
   "name": "python",
   "nbconvert_exporter": "python",
   "pygments_lexer": "ipython3",
   "version": "3.10.5"
  },
  "toc-showmarkdowntxt": true
 },
 "nbformat": 4,
 "nbformat_minor": 5
}